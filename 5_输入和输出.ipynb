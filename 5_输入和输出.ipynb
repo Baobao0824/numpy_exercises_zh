{
 "cells": [
  {
   "cell_type": "markdown",
   "metadata": {},
   "source": [
    "# 输入和输出"
   ]
  },
  {
   "cell_type": "code",
   "execution_count": 1,
   "metadata": {
    "collapsed": true
   },
   "outputs": [],
   "source": [
    "from __future__ import print_function\n",
    "import numpy as np"
   ]
  },
  {
   "cell_type": "code",
   "execution_count": 2,
   "metadata": {
    "collapsed": true
   },
   "outputs": [],
   "source": [
    "author = \"kyubyong. https://github.com/Kyubyong/numpy_exercises\""
   ]
  },
  {
   "cell_type": "code",
   "execution_count": 3,
   "metadata": {
    "collapsed": false
   },
   "outputs": [
    {
     "data": {
      "text/plain": [
       "'1.12.0'"
      ]
     },
     "execution_count": 3,
     "metadata": {},
     "output_type": "execute_result"
    }
   ],
   "source": [
    "np.__version__"
   ]
  },
  {
   "cell_type": "code",
   "execution_count": 2,
   "metadata": {
    "collapsed": false
   },
   "outputs": [
    {
     "name": "stdout",
     "output_type": "stream",
     "text": [
      "2025-04-09\n"
     ]
    }
   ],
   "source": [
    "from datetime import date\n",
    "print(date.today())"
   ]
  },
  {
   "cell_type": "markdown",
   "metadata": {},
   "source": [
    "## NumPy二进制文件（NPY，NPZ）"
   ]
  },
  {
   "cell_type": "markdown",
   "metadata": {},
   "source": [
    "Q1、将`x`保存到`temp.npy`文件中，然后再加载它。 "
   ]
  },
  {
   "cell_type": "code",
   "execution_count": null,
   "metadata": {
    "collapsed": false
   },
   "outputs": [
    {
     "name": "stdout",
     "output_type": "stream",
     "text": [
      "True\n"
     ]
    }
   ],
   "source": [
    "x = np.arange(10)\n",
    "...\n",
    "\n",
    "# Check if there exists the 'temp.npy' file.\n",
    "import os\n",
    "if os.path.exists('temp.npy'):\n",
    "    x2 = ...\n",
    "    print(np.array_equal(x, x2))\n"
   ]
  },
  {
   "cell_type": "markdown",
   "metadata": {},
   "source": [
    "Q2、将变量x和y保存到单个文件“temp.npz”中，然后再加载它。 "
   ]
  },
  {
   "cell_type": "code",
   "execution_count": null,
   "metadata": {
    "collapsed": false
   },
   "outputs": [
    {
     "name": "stdout",
     "output_type": "stream",
     "text": [
      "True\n",
      "True\n"
     ]
    }
   ],
   "source": [
    "x = np.arange(10)\n",
    "y = np.arange(11, 20)\n",
    "...\n",
    "\n",
    "with ... as data:\n",
    "    x2 = data['x']\n",
    "    y2 = data['y']\n",
    "    print(np.array_equal(x, x2))\n",
    "    print(np.array_equal(y, y2))\n"
   ]
  },
  {
   "cell_type": "markdown",
   "metadata": {},
   "source": [
    "## 文本文件"
   ]
  },
  {
   "cell_type": "markdown",
   "metadata": {},
   "source": [
    "Q3、以字符串格式将x保存到“temp.txt”文件中，然后再加载它。 "
   ]
  },
  {
   "cell_type": "code",
   "execution_count": null,
   "metadata": {
    "collapsed": false
   },
   "outputs": [
    {
     "data": {
      "text/plain": [
       "array([[0., 1., 2., 3., 4.],\n",
       "       [5., 6., 7., 8., 9.]])"
      ]
     },
     "execution_count": 10,
     "metadata": {},
     "output_type": "execute_result"
    }
   ],
   "source": [
    "x = np.arange(10).reshape(2, 5)\n",
    "header = 'num1 num2 num3 num4 num5'\n",
    "...\n",
    "..."
   ]
  },
  {
   "cell_type": "markdown",
   "metadata": {},
   "source": [
    "Q4、将`x`、`y`和`z`以字符串格式逐行保存到“temp.txt”文件中，然后再加载它。 "
   ]
  },
  {
   "cell_type": "code",
   "execution_count": null,
   "metadata": {
    "collapsed": false
   },
   "outputs": [
    {
     "data": {
      "text/plain": [
       "array([[ 0.,  1.,  2.,  3.,  4.,  5.,  6.,  7.,  8.,  9.],\n",
       "       [11., 12., 13., 14., 15., 16., 17., 18., 19., 20.],\n",
       "       [22., 23., 24., 25., 26., 27., 28., 29., 30., 31.]])"
      ]
     },
     "execution_count": 8,
     "metadata": {},
     "output_type": "execute_result"
    }
   ],
   "source": [
    "x = np.arange(10)\n",
    "y = np.arange(11, 21)\n",
    "z = np.arange(22, 32)\n",
    "...\n",
    "..."
   ]
  },
  {
   "cell_type": "markdown",
   "metadata": {},
   "source": [
    "Q5、将`x`转换为字节形式，然后将其作为数组加载。 "
   ]
  },
  {
   "cell_type": "code",
   "execution_count": null,
   "metadata": {
    "collapsed": false
   },
   "outputs": [
    {
     "name": "stdout",
     "output_type": "stream",
     "text": [
      "True\n"
     ]
    }
   ],
   "source": [
    "x = np.array([1, 2, 3, 4])\n",
    "x_bytes = ...\n",
    "x2 = ...\n",
    "print(np.array_equal(x, x2))\n"
   ]
  },
  {
   "cell_type": "markdown",
   "metadata": {},
   "source": [
    "Q6、将`a`转换为一个NumPy的ndarray，然后再将其转换回列表。 "
   ]
  },
  {
   "cell_type": "code",
   "execution_count": null,
   "metadata": {
    "collapsed": false
   },
   "outputs": [
    {
     "name": "stdout",
     "output_type": "stream",
     "text": [
      "True\n"
     ]
    }
   ],
   "source": [
    "a = [[1, 2], [3, 4]]\n",
    "x = ...\n",
    "a2 = ...\n",
    "print(a == a2)"
   ]
  },
  {
   "cell_type": "markdown",
   "metadata": {},
   "source": [
    "## 字符串格式化¶"
   ]
  },
  {
   "cell_type": "markdown",
   "metadata": {},
   "source": [
    "Q7、将`x`转换为字符串，然后再将其还原。 "
   ]
  },
  {
   "cell_type": "code",
   "execution_count": null,
   "metadata": {
    "collapsed": false
   },
   "outputs": [
    {
     "name": "stdout",
     "output_type": "stream",
     "text": [
      "b'\\x00\\x00\\x00\\x00\\x00\\x00\\x00\\x00\\x01\\x00\\x00\\x00\\x00\\x00\\x00\\x00\\x02\\x00\\x00\\x00\\x00\\x00\\x00\\x00\\x03\\x00\\x00\\x00\\x00\\x00\\x00\\x00\\x04\\x00\\x00\\x00\\x00\\x00\\x00\\x00\\x05\\x00\\x00\\x00\\x00\\x00\\x00\\x00\\x06\\x00\\x00\\x00\\x00\\x00\\x00\\x00\\x07\\x00\\x00\\x00\\x00\\x00\\x00\\x00\\x08\\x00\\x00\\x00\\x00\\x00\\x00\\x00\\t\\x00\\x00\\x00\\x00\\x00\\x00\\x00' \n",
      " <class 'bytes'>\n"
     ]
    },
    {
     "name": "stderr",
     "output_type": "stream",
     "text": [
      "/var/folders/k2/2s1np22j4cdg5wjpc1dj02nm0000gn/T/ipykernel_12545/2394789476.py:2: DeprecationWarning: tostring() is deprecated. Use tobytes() instead.\n",
      "  x_str = x.tostring()\n",
      "/var/folders/k2/2s1np22j4cdg5wjpc1dj02nm0000gn/T/ipykernel_12545/2394789476.py:6: DeprecationWarning: The binary mode of fromstring is deprecated, as it behaves surprisingly on unicode inputs. Use frombuffer instead\n",
      "  x2 = np.fromstring(x_str,dtype=x.dtype,)\n"
     ]
    },
    {
     "data": {
      "text/plain": [
       "b'\\x00\\x00\\x00\\x00\\x00\\x00\\x00\\x00\\x01\\x00\\x00\\x00\\x00\\x00\\x00\\x00\\x02\\x00\\x00\\x00\\x00\\x00\\x00\\x00\\x03\\x00\\x00\\x00\\x00\\x00\\x00\\x00\\x04\\x00\\x00\\x00\\x00\\x00\\x00\\x00\\x05\\x00\\x00\\x00\\x00\\x00\\x00\\x00\\x06\\x00\\x00\\x00\\x00\\x00\\x00\\x00\\x07\\x00\\x00\\x00\\x00\\x00\\x00\\x00\\x08\\x00\\x00\\x00\\x00\\x00\\x00\\x00\\t\\x00\\x00\\x00\\x00\\x00\\x00\\x00'"
      ]
     },
     "execution_count": 19,
     "metadata": {},
     "output_type": "execute_result"
    }
   ],
   "source": [
    "x = np.arange(10).reshape(2,5)\n",
    "x_str = ...\n",
    "print(x_str, \"\\n\", type(x_str))\n",
    "x_str = x_str.replace(\"[\", \" \") # [] must be stripped\n",
    "x_str = x_str.replace(\"]\", \" \")\n",
    "x2 = ...\n",
    "assert np.array_equal(x, x2)\n"
   ]
  },
  {
   "cell_type": "code",
   "execution_count": null,
   "metadata": {},
   "outputs": [],
   "source": []
  },
  {
   "cell_type": "markdown",
   "metadata": {},
   "source": [
    "## 格式化字符串选项"
   ]
  },
  {
   "cell_type": "markdown",
   "metadata": {},
   "source": [
    "Q8、打印`x`，使得所有元素都以精度为1显示，且不抑制小数值的显示。 "
   ]
  },
  {
   "cell_type": "code",
   "execution_count": null,
   "metadata": {
    "collapsed": false
   },
   "outputs": [
    {
     "name": "stdout",
     "output_type": "stream",
     "text": [
      "[[0.5 0.7 0.9 0.4 0.8 0.8 0.2 0.7 1.  0.6 0.1 0.5 0.1 0.  0.5 0.4 0.2 0.9\n",
      "  0.4 0.4 1.  0.3 0.8 0.9 0.8 0.9 0.5 0.4 0.4 0.6 1.  1.  0.7 0.7 0.9 0.9\n",
      "  0.8 0.7 0.3 0.6 0.8 0.3 0.9 0.7 0.3 0.6 0.1 0.2 0.2 0.7 0.7 0.8 0.3 0.1\n",
      "  0.2 0.7 0.4 0.8 0.6 0.4 0.3 1.  0.2 0.7 0.2 0.  0.  0.6 0.3 0.7 0.6 0.3\n",
      "  0.7 0.1 0.8 0.2 0.8 1.  0.8 0.2 0.2 0.5 0.1 0.6 0.2 0.8 0.  0.4 0.8 0.6\n",
      "  0.6 0.2 1.  0.4 0.  0.2 0.5 0.5 0.8 0.9]\n",
      " [0.9 0.4 0.7 1.  0.8 0.8 0.7 0.4 0.6 0.8 0.  0.7 0.1 0.5 1.  0.4 0.4 0.\n",
      "  0.4 0.1 1.  0.1 0.  0.4 0.7 0.6 0.1 0.7 0.8 0.3 0.  0.6 0.3 0.4 0.3 0.5\n",
      "  0.6 0.9 0.8 0.3 1.  0.9 0.4 0.2 0.2 0.2 0.4 0.4 0.  0.6 0.3 0.1 0.4 0.8\n",
      "  0.4 0.3 0.  0.  0.3 0.2 0.3 0.8 0.9 0.2 0.5 0.5 0.7 0.8 0.1 0.7 0.1 0.4\n",
      "  0.9 0.6 0.5 0.4 0.9 0.3 0.8 0.8 0.8 0.3 0.4 0.9 0.9 0.2 0.4 0.3 0.9 0.5\n",
      "  0.1 0.  0.2 0.1 0.5 0.3 0.2 0.1 0.7 0.1]\n",
      " [0.3 0.9 0.2 0.5 0.4 1.  0.2 0.4 0.9 0.3 0.  0.6 0.8 0.2 0.5 0.6 0.5 0.9\n",
      "  0.7 1.  0.3 0.7 0.4 0.3 0.6 0.6 0.4 0.8 0.2 0.4 0.8 0.6 0.3 0.2 0.7 0.4\n",
      "  0.1 0.4 0.1 0.5 0.3 0.1 0.2 0.  1.  0.4 0.9 0.  0.4 0.  0.1 0.  0.7 0.5\n",
      "  0.8 0.3 0.6 0.1 0.7 0.9 0.7 0.2 0.5 1.  0.1 0.9 0.9 1.  0.3 0.4 0.5 0.\n",
      "  0.  0.2 0.3 0.1 0.3 0.9 1.  0.5 0.3 0.  0.1 0.7 0.1 0.5 0.2 0.4 0.6 0.4\n",
      "  0.2 0.6 0.  0.5 0.3 0.8 0.9 0.9 0.8 0.6]\n",
      " [0.3 0.4 0.6 0.3 0.7 0.6 0.9 0.1 0.2 0.  0.7 1.  0.1 0.2 0.9 0.1 0.4 0.\n",
      "  0.1 0.8 0.8 0.4 0.3 0.6 0.9 0.1 0.1 0.3 0.6 0.8 0.7 0.5 0.8 0.7 0.9 0.5\n",
      "  0.5 0.1 0.2 0.1 0.9 0.7 0.4 0.8 0.8 0.2 0.2 0.9 0.7 0.8 0.4 0.  0.9 0.1\n",
      "  0.6 0.4 0.4 0.6 0.6 0.2 0.6 0.4 0.2 0.3 0.1 0.5 1.  0.7 0.6 0.8 0.8 0.3\n",
      "  0.6 0.1 0.4 0.6 0.5 1.  0.3 0.8 0.8 0.4 0.9 0.9 0.6 0.3 0.5 0.2 0.4 0.5\n",
      "  0.4 0.6 0.7 0.2 0.6 1.  0.5 0.1 0.  0.1]\n",
      " [0.6 0.3 0.3 0.3 0.1 1.  0.1 0.8 0.4 0.3 1.  0.2 0.  0.1 0.3 0.1 0.7 0.1\n",
      "  0.4 0.1 0.8 0.2 0.5 0.6 0.2 0.6 0.4 0.4 0.3 0.2 0.6 0.2 0.2 0.5 0.5 0.1\n",
      "  0.6 0.7 0.6 0.5 0.3 0.8 0.2 0.5 0.8 0.4 0.9 0.5 0.9 0.5 0.  0.7 0.7 0.3\n",
      "  0.8 0.1 0.7 0.4 0.4 0.8 0.1 0.4 0.6 0.4 0.2 0.8 0.5 0.6 0.6 0.9 0.8 0.5\n",
      "  0.6 0.4 0.4 0.9 0.2 0.4 0.8 0.1 0.4 0.5 0.3 0.8 0.2 0.2 0.3 0.7 0.2 0.2\n",
      "  0.6 0.3 0.4 0.2 0.4 0.7 0.4 0.1 0.6 0.5]\n",
      " [0.4 0.5 0.1 0.9 0.2 1.  0.7 0.8 0.  0.3 0.3 0.7 0.7 0.  0.8 0.3 0.6 0.1\n",
      "  0.4 0.9 1.  0.7 0.8 0.  0.6 0.6 1.  0.5 0.7 0.9 0.6 0.1 0.7 0.4 0.3 0.7\n",
      "  0.2 0.1 0.9 0.9 0.6 0.4 0.6 0.9 0.9 0.3 0.8 0.7 0.4 0.1 1.  0.5 0.5 0.9\n",
      "  0.8 0.1 0.5 0.3 0.6 0.6 0.9 0.4 1.  0.1 0.8 0.9 0.5 0.8 0.7 0.1 0.2 0.1\n",
      "  0.7 0.4 0.3 1.  0.2 0.1 0.8 0.2 0.4 0.1 0.6 1.  0.6 0.8 0.5 0.1 0.3 1.\n",
      "  0.1 0.2 0.8 0.4 0.6 0.1 0.8 0.2 0.3 1. ]\n",
      " [0.5 0.8 0.9 0.2 0.7 0.7 0.3 1.  0.9 0.8 0.5 0.3 0.3 0.6 0.9 0.1 0.8 0.7\n",
      "  0.5 0.  0.1 0.8 0.3 0.7 0.5 0.9 0.5 0.5 1.  0.  0.3 0.8 0.5 0.2 0.1 0.1\n",
      "  0.6 0.6 0.  0.3 0.5 0.3 0.2 0.1 0.3 0.1 0.6 0.1 0.9 0.3 0.8 0.6 0.6 0.1\n",
      "  0.9 0.  0.8 0.2 1.  0.1 0.3 0.4 0.7 0.  0.8 0.2 0.6 1.  0.5 0.3 0.9 0.\n",
      "  0.2 0.9 0.4 0.8 0.1 0.7 0.4 0.4 0.1 0.4 0.4 1.  0.4 0.2 0.9 0.9 0.6 0.5\n",
      "  0.  0.1 0.1 0.9 0.2 0.9 0.3 0.8 1.  0.2]\n",
      " [0.4 0.1 0.6 0.2 0.4 0.8 0.5 0.7 0.7 0.7 0.3 0.3 0.1 0.1 0.6 0.1 0.7 0.6\n",
      "  0.2 0.7 0.9 0.  0.4 0.4 0.2 0.8 0.  0.1 0.5 0.5 0.6 0.9 0.7 0.9 0.5 0.3\n",
      "  0.6 0.  0.9 1.  0.2 0.8 0.6 0.9 0.6 0.3 0.8 0.6 0.5 0.1 0.6 0.7 0.9 1.\n",
      "  0.9 0.6 0.1 0.  0.8 0.6 0.7 0.9 0.4 0.8 0.4 0.2 0.7 0.4 0.8 0.6 0.1 0.2\n",
      "  0.1 1.  0.8 0.2 0.3 0.9 0.5 0.7 0.6 0.6 0.2 0.2 0.4 0.4 0.5 0.9 0.7 0.4\n",
      "  0.3 0.7 0.4 0.9 0.3 0.  0.5 0.7 0.1 0.4]\n",
      " [0.4 0.1 0.4 0.2 0.7 0.7 0.4 0.2 0.5 0.7 0.7 0.5 0.1 0.4 0.3 0.5 0.2 0.2\n",
      "  0.6 0.1 0.7 0.4 0.7 0.4 0.3 0.1 0.2 0.4 0.2 0.5 0.6 0.4 0.5 0.7 0.9 0.3\n",
      "  0.3 0.6 0.2 0.5 0.2 0.5 0.2 0.1 0.1 0.9 0.3 0.3 0.1 0.9 0.6 0.1 0.4 1.\n",
      "  0.7 0.9 0.2 0.5 0.7 0.6 0.1 0.8 0.8 1.  0.2 1.  0.6 0.2 0.7 0.5 0.4 0.9\n",
      "  0.5 0.1 0.7 0.2 0.4 0.7 0.7 0.5 0.6 0.1 0.4 0.7 0.1 0.4 0.4 0.1 0.7 0.9\n",
      "  0.9 0.2 0.1 0.5 0.5 0.5 0.6 0.1 0.3 0.8]\n",
      " [0.1 0.9 0.8 0.3 0.7 0.5 0.7 0.2 0.3 0.6 0.6 0.  0.3 0.7 0.9 0.7 0.7 0.9\n",
      "  0.  0.1 0.  0.2 0.8 0.7 0.8 1.  0.6 0.7 0.6 0.4 0.5 1.  0.3 0.5 0.4 0.3\n",
      "  0.2 0.6 0.3 0.7 0.7 0.2 0.9 0.3 0.6 0.6 0.6 0.6 0.1 0.1 0.9 0.8 0.9 0.2\n",
      "  0.2 1.  0.6 0.2 0.9 0.7 0.7 0.  0.9 0.6 0.  0.5 0.8 0.6 0.5 0.8 0.9 0.4\n",
      "  0.5 0.7 0.  1.  0.3 0.5 0.  0.3 0.7 0.1 0.5 0.2 0.5 0.9 0.7 0.5 0.4 0.7\n",
      "  0.2 0.2 0.  0.9 0.9 0.4 0.  0.2 0.6 0.6]]\n"
     ]
    }
   ],
   "source": [
    "x = np.random.uniform(size=[10,100])\n",
    "np.set_printoptions(...)\n",
    "print(x)"
   ]
  },
  {
   "cell_type": "markdown",
   "metadata": {},
   "source": [
    "## 以n为基数的表示形式"
   ]
  },
  {
   "cell_type": "markdown",
   "metadata": {},
   "source": [
    "Q9、将12转换为字符串格式的二进制数。"
   ]
  },
  {
   "cell_type": "code",
   "execution_count": null,
   "metadata": {
    "collapsed": false
   },
   "outputs": [
    {
     "data": {
      "text/plain": [
       "'1100'"
      ]
     },
     "execution_count": 21,
     "metadata": {},
     "output_type": "execute_result"
    }
   ],
   "source": []
  },
  {
   "cell_type": "markdown",
   "metadata": {},
   "source": [
    "Q10、将12转换为字符串格式的十六进制数。"
   ]
  },
  {
   "cell_type": "code",
   "execution_count": null,
   "metadata": {
    "collapsed": false
   },
   "outputs": [
    {
     "data": {
      "text/plain": [
       "'44C'"
      ]
     },
     "execution_count": 35,
     "metadata": {},
     "output_type": "execute_result"
    }
   ],
   "source": []
  }
 ],
 "metadata": {
  "anaconda-cloud": {},
  "kernelspec": {
   "display_name": "base",
   "language": "python",
   "name": "python3"
  },
  "language_info": {
   "codemirror_mode": {
    "name": "ipython",
    "version": 3
   },
   "file_extension": ".py",
   "mimetype": "text/x-python",
   "name": "python",
   "nbconvert_exporter": "python",
   "pygments_lexer": "ipython3",
   "version": "3.12.7"
  }
 },
 "nbformat": 4,
 "nbformat_minor": 1
}
