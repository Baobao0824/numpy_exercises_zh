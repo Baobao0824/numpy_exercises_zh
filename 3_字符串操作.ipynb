{
 "cells": [
  {
   "cell_type": "markdown",
   "metadata": {},
   "source": [
    "## 字符串操作"
   ]
  },
  {
   "cell_type": "code",
   "execution_count": 1,
   "metadata": {
    "collapsed": true
   },
   "outputs": [],
   "source": [
    "from __future__ import print_function\n",
    "import numpy as np"
   ]
  },
  {
   "cell_type": "code",
   "execution_count": 2,
   "metadata": {
    "collapsed": true
   },
   "outputs": [],
   "source": [
    "author = \"kyubyong. https://github.com/Kyubyong/numpy_exercises\""
   ]
  },
  {
   "cell_type": "code",
   "execution_count": 2,
   "metadata": {
    "collapsed": false
   },
   "outputs": [
    {
     "data": {
      "text/plain": [
       "'1.26.4'"
      ]
     },
     "execution_count": 2,
     "metadata": {},
     "output_type": "execute_result"
    }
   ],
   "source": [
    "np.__version__"
   ]
  },
  {
   "cell_type": "markdown",
   "metadata": {},
   "source": [
    "Q1、将x1和x2连接起来。"
   ]
  },
  {
   "cell_type": "code",
   "execution_count": null,
   "metadata": {
    "collapsed": false
   },
   "outputs": [
    {
     "data": {
      "text/plain": [
       "array(['Hello', 'Say', ' world', ' something'], dtype='<U10')"
      ]
     },
     "execution_count": 6,
     "metadata": {},
     "output_type": "execute_result"
    }
   ],
   "source": [
    "x1 = np.array(['Hello', 'Say'], dtype=np.str)\n",
    "x2 = np.array([' world', ' something'], dtype=np.str)\n",
    "\n"
   ]
  },
  {
   "cell_type": "markdown",
   "metadata": {},
   "source": [
    "Q2、逐元素地将x重复三次。"
   ]
  },
  {
   "cell_type": "code",
   "execution_count": null,
   "metadata": {
    "collapsed": false
   },
   "outputs": [
    {
     "data": {
      "text/plain": [
       "array(['Hello ', 'Hello ', 'Hello ', 'Say ', 'Say ', 'Say '], dtype='<U6')"
      ]
     },
     "execution_count": 7,
     "metadata": {},
     "output_type": "execute_result"
    }
   ],
   "source": [
    "x = np.array(['Hello ', 'Say '], dtype=np.str)\n"
   ]
  },
  {
   "cell_type": "markdown",
   "metadata": {},
   "source": [
    "Q3-1、逐元素地将x的首字母大写。<br/>\n",
    "Q3-2、逐元素地将x转换为小写形式。<br/>\n",
    "Q3-3、逐元素地将x转换为大写形式。<br/>\n",
    "Q3-4、逐元素地将x中的字母大小写互换。<br/>\n",
    "Q3-5、逐元素地将x转换为标题格式（每个单词首字母大写，其余字母小写）。<br/> "
   ]
  },
  {
   "cell_type": "code",
   "execution_count": null,
   "metadata": {
    "collapsed": false
   },
   "outputs": [
    {
     "name": "stdout",
     "output_type": "stream",
     "text": [
      "capitalized = ['HELLO WORLD' 'SAY SOMETHING']\n",
      "lowered = Ellipsis\n",
      "uppered = Ellipsis\n",
      "swapcased = Ellipsis\n",
      "titlecased = Ellipsis\n"
     ]
    }
   ],
   "source": [
    "x = np.array(['heLLo woRLd', 'Say sOmething'], dtype=np.str_)\n",
    "capitalized = ...\n",
    "lowered = ...\n",
    "uppered = ...\n",
    "swapcased = ...\n",
    "titlecased = ...\n",
    "print(\"capitalized =\", capitalized)\n",
    "print(\"lowered =\", lowered)\n",
    "print(\"uppered =\", uppered)\n",
    "print(\"swapcased =\", swapcased)\n",
    "print(\"titlecased =\", titlecased)"
   ]
  },
  {
   "cell_type": "markdown",
   "metadata": {},
   "source": [
    "Q4、使每个元素的长度为20，并用`_`进行填充，让字符串居中显示/左对齐显示/右对齐显示。 "
   ]
  },
  {
   "cell_type": "code",
   "execution_count": null,
   "metadata": {
    "collapsed": false
   },
   "outputs": [
    {
     "name": "stdout",
     "output_type": "stream",
     "text": [
      "centered = ['____hello world_____' '___say something____']\n",
      "left = ['hello world_________' 'say something_______']\n",
      "right = ['_________hello world' '_______say something']\n"
     ]
    }
   ],
   "source": [
    "x = np.array(['hello world', 'say something'], dtype=np.str_)\n",
    "centered = ...\n",
    "left = ...\n",
    "right = ...\n",
    "\n",
    "print(\"centered =\", centered)\n",
    "print(\"left =\", left)\n",
    "print(\"right =\", right)"
   ]
  },
  {
   "cell_type": "markdown",
   "metadata": {},
   "source": [
    "Q5、用cp500编码x，然后再对其进行解码。 "
   ]
  },
  {
   "cell_type": "code",
   "execution_count": null,
   "metadata": {
    "collapsed": false
   },
   "outputs": [
    {
     "name": "stdout",
     "output_type": "stream",
     "text": [
      "encoded = [b'\\x88\\x85\\x93\\x93\\x96@\\xa6\\x96\\x99\\x93\\x84'\n",
      " b'\\xa2\\x81\\xa8@\\xa2\\x96\\x94\\x85\\xa3\\x88\\x89\\x95\\x87']\n",
      "decoded = ['hello world' 'say something']\n"
     ]
    }
   ],
   "source": [
    "x = np.array(['hello world', 'say something'], dtype=np.str)\n",
    "encoded = ...\n",
    "decoded = ...\n",
    "print(\"encoded =\", encoded)\n",
    "print(\"decoded =\", decoded)"
   ]
  },
  {
   "cell_type": "markdown",
   "metadata": {},
   "source": [
    "Q6、在x的字符之间插入一个空格。"
   ]
  },
  {
   "cell_type": "code",
   "execution_count": null,
   "metadata": {
    "collapsed": false
   },
   "outputs": [
    {
     "data": {
      "text/plain": [
       "array(['h e l l o   w o r l d', 's a y   s o m e t h i n g'], dtype='<U25')"
      ]
     },
     "execution_count": 21,
     "metadata": {},
     "output_type": "execute_result"
    }
   ],
   "source": [
    "x = np.array(['hello world', 'say something'], dtype=np.str)\n"
   ]
  },
  {
   "cell_type": "markdown",
   "metadata": {},
   "source": [
    "Q7-1、逐元素地去除x中字符串开头和结尾的空白字符。<br/>\n",
    "Q7-2、逐元素地去除x中字符串开头的空白字符。<br/>\n",
    "Q7-3、逐元素地去除x中字符串结尾的空白字符。 "
   ]
  },
  {
   "cell_type": "code",
   "execution_count": null,
   "metadata": {
    "collapsed": false
   },
   "outputs": [
    {
     "name": "stdout",
     "output_type": "stream",
     "text": [
      "stripped = ['hello world' 'say something']\n",
      "lstripped = ['hello world   ' 'say something\\n']\n",
      "rstripped = ['   hello world' '\\tsay something']\n"
     ]
    }
   ],
   "source": [
    "x = np.array(['   hello world   ', '\\tsay something\\n'], dtype=np.str)\n",
    "stripped = ...\n",
    "lstripped = ...\n",
    "rstripped = ...\n",
    "print(\"stripped =\", stripped)\n",
    "print(\"lstripped =\", lstripped)\n",
    "print(\"rstripped =\", rstripped)"
   ]
  },
  {
   "cell_type": "markdown",
   "metadata": {},
   "source": [
    "Q8、用空格分割x中的元素。"
   ]
  },
  {
   "cell_type": "code",
   "execution_count": null,
   "metadata": {
    "collapsed": false
   },
   "outputs": [
    {
     "data": {
      "text/plain": [
       "array([list(['Hello', 'my', 'name', 'is', 'John'])], dtype=object)"
      ]
     },
     "execution_count": 3,
     "metadata": {},
     "output_type": "execute_result"
    }
   ],
   "source": [
    "x = np.array(['Hello my name is John'], dtype=np.str)\n",
    "\n"
   ]
  },
  {
   "cell_type": "markdown",
   "metadata": {},
   "source": [
    "Q9、将x的元素分割成多行。"
   ]
  },
  {
   "cell_type": "code",
   "execution_count": null,
   "metadata": {
    "collapsed": false
   },
   "outputs": [
    {
     "data": {
      "text/plain": [
       "array([list(['Hello', 'my name is John'])], dtype=object)"
      ]
     },
     "execution_count": 5,
     "metadata": {},
     "output_type": "execute_result"
    }
   ],
   "source": [
    "x = np.array(['Hello\\nmy name is John'], dtype=np.str)\n"
   ]
  },
  {
   "cell_type": "markdown",
   "metadata": {},
   "source": [
    "Q10、将x变成一个4位数字的数字字符串，在其左侧补零。 "
   ]
  },
  {
   "cell_type": "code",
   "execution_count": null,
   "metadata": {
    "collapsed": false
   },
   "outputs": [
    {
     "data": {
      "text/plain": [
       "array(['0034'], dtype='<U4')"
      ]
     },
     "execution_count": 5,
     "metadata": {},
     "output_type": "execute_result"
    }
   ],
   "source": [
    "x = np.array(['34'], dtype=np.str_)\n"
   ]
  },
  {
   "cell_type": "markdown",
   "metadata": {},
   "source": [
    "Q11、在x中把“John”替换为“Jim”。 "
   ]
  },
  {
   "cell_type": "code",
   "execution_count": null,
   "metadata": {
    "collapsed": false
   },
   "outputs": [
    {
     "data": {
      "text/plain": [
       "array(['Hello nmy name is Jim'], dtype='<U21')"
      ]
     },
     "execution_count": 9,
     "metadata": {},
     "output_type": "execute_result"
    }
   ],
   "source": [
    "x = np.array(['Hello nmy name is John'], dtype=np.str)\n"
   ]
  },
  {
   "cell_type": "markdown",
   "metadata": {},
   "source": [
    "## 比较"
   ]
  },
  {
   "cell_type": "markdown",
   "metadata": {},
   "source": [
    "Q12、逐元素地返回x1是否等于x2的结果。 "
   ]
  },
  {
   "cell_type": "code",
   "execution_count": null,
   "metadata": {
    "collapsed": false
   },
   "outputs": [
    {
     "data": {
      "text/plain": [
       "array([ True,  True,  True,  True, False])"
      ]
     },
     "execution_count": 11,
     "metadata": {},
     "output_type": "execute_result"
    }
   ],
   "source": [
    "x1 = np.array(['Hello', 'my', 'name', 'is', 'John'], dtype=np.str)\n",
    "x2 = np.array(['Hello', 'my', 'name', 'is', 'Jim'], dtype=np.str)"
   ]
  },
  {
   "cell_type": "markdown",
   "metadata": {},
   "source": [
    "Q13、逐元素地返回x1不等于x2的结果。 "
   ]
  },
  {
   "cell_type": "code",
   "execution_count": null,
   "metadata": {
    "collapsed": false
   },
   "outputs": [
    {
     "data": {
      "text/plain": [
       "array([False, False, False, False,  True])"
      ]
     },
     "execution_count": 12,
     "metadata": {},
     "output_type": "execute_result"
    }
   ],
   "source": [
    "x1 = np.array(['Hello', 'my', 'name', 'is', 'John'], dtype=np.str)\n",
    "x2 = np.array(['Hello', 'my', 'name', 'is', 'Jim'], dtype=np.str)\n"
   ]
  },
  {
   "cell_type": "markdown",
   "metadata": {},
   "source": [
    "## 字符串信息"
   ]
  },
  {
   "cell_type": "markdown",
   "metadata": {},
   "source": [
    "Q14、逐元素地统计x中字母“l”的数量。 "
   ]
  },
  {
   "cell_type": "code",
   "execution_count": null,
   "metadata": {
    "collapsed": false
   },
   "outputs": [
    {
     "data": {
      "text/plain": [
       "array([2, 0, 0, 0, 1])"
      ]
     },
     "execution_count": 14,
     "metadata": {},
     "output_type": "execute_result"
    }
   ],
   "source": [
    "x = np.array(['Hello', 'my', 'name', 'is', 'Lily'], dtype=np.str)\n"
   ]
  },
  {
   "cell_type": "markdown",
   "metadata": {},
   "source": [
    "Q15、逐元素地统计x中字母“l”首次出现的最低索引位置。 "
   ]
  },
  {
   "cell_type": "code",
   "execution_count": null,
   "metadata": {
    "collapsed": false
   },
   "outputs": [
    {
     "data": {
      "text/plain": [
       "array([ 2, -1, -1, -1,  2])"
      ]
     },
     "execution_count": 15,
     "metadata": {},
     "output_type": "execute_result"
    }
   ],
   "source": [
    "x = np.array(['Hello', 'my', 'name', 'is', 'Lily'], dtype=np.str)\n",
    "\n",
    "\n"
   ]
  },
  {
   "cell_type": "markdown",
   "metadata": {},
   "source": [
    "Q16-1、检查x的每个元素是否仅由数字组成。<br/>\n",
    "Q16-2、检查x的每个元素是否仅由小写字母组成。<br/>\n",
    "Q16-3、检查x的每个元素是否仅由大写字母组成。 "
   ]
  },
  {
   "cell_type": "code",
   "execution_count": null,
   "metadata": {
    "collapsed": false
   },
   "outputs": [
    {
     "name": "stdout",
     "output_type": "stream",
     "text": [
      "Digits only = [False False False  True False False]\n",
      "Lower cases only = [False False  True False  True  True]\n",
      "Upper cases only = [False  True False False False False]\n"
     ]
    }
   ],
   "source": [
    "x = np.array(['Hello', 'I', 'am', '20', 'years', 'old'], dtype=np.str)\n",
    "out1 = ...\n",
    "out2 = ...\n",
    "out3 = ...\n",
    "print(\"Digits only =\", out1)\n",
    "print(\"Lower cases only =\", out2)\n",
    "print(\"Upper cases only =\", out3)"
   ]
  },
  {
   "cell_type": "markdown",
   "metadata": {},
   "source": [
    "Q17、检查x的每个元素是否以“hi”开头。"
   ]
  },
  {
   "cell_type": "code",
   "execution_count": null,
   "metadata": {
    "collapsed": false
   },
   "outputs": [
    {
     "data": {
      "text/plain": [
       "array([False,  True,  True,  True])"
      ]
     },
     "execution_count": 18,
     "metadata": {},
     "output_type": "execute_result"
    }
   ],
   "source": [
    "x = np.array(['he', 'his', 'him', 'his'], dtype=np.str)\n"
   ]
  },
  {
   "cell_type": "code",
   "execution_count": null,
   "metadata": {
    "collapsed": true
   },
   "outputs": [],
   "source": []
  }
 ],
 "metadata": {
  "anaconda-cloud": {},
  "kernelspec": {
   "display_name": "base",
   "language": "python",
   "name": "python3"
  },
  "language_info": {
   "codemirror_mode": {
    "name": "ipython",
    "version": 3
   },
   "file_extension": ".py",
   "mimetype": "text/x-python",
   "name": "python",
   "nbconvert_exporter": "python",
   "pygments_lexer": "ipython3",
   "version": "3.12.7"
  }
 },
 "nbformat": 4,
 "nbformat_minor": 1
}
